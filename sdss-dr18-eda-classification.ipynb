{
 "cells": [
  {
   "cell_type": "markdown",
   "metadata": {},
   "source": [
    "# Intro"
   ]
  },
  {
   "cell_type": "markdown",
   "metadata": {},
   "source": [
    "**Sloan Digital Sky Survey - DR18**\n",
    "\n",
    "In this Machine Learning project we will classify the observations from the Data Release (DR) 18 of the Sloan Digital Sky Survey (SDSS). Each observation is described by 42 features and 1 class column classifying the observation as either:\n",
    "* a STAR\n",
    "* a GALAXY\n",
    "* a QSO (Quasi-Stellar Object) or a Quasar.\n",
    "\n",
    "We will use **CatBoostClassifier** from catboost and **XGBClassifier** from xgboost"
   ]
  },
  {
   "cell_type": "markdown",
   "metadata": {},
   "source": [
    "# Load packages"
   ]
  },
  {
   "cell_type": "code",
   "execution_count": null,
   "metadata": {
    "execution": {
     "iopub.execute_input": "2023-10-02T23:21:35.156602Z",
     "iopub.status.busy": "2023-10-02T23:21:35.156234Z",
     "iopub.status.idle": "2023-10-02T23:21:35.163972Z",
     "shell.execute_reply": "2023-10-02T23:21:35.162806Z",
     "shell.execute_reply.started": "2023-10-02T23:21:35.156576Z"
    }
   },
   "outputs": [],
   "source": [
    "import pandas as pd\n",
    "import numpy as np\n",
    "import seaborn as sns\n",
    "import matplotlib.pyplot as plt\n",
    "\n",
    "from sklearn.model_selection import train_test_split\n",
    "from sklearn.preprocessing import LabelEncoder, MinMaxScaler\n",
    "from catboost import CatBoostClassifier\n",
    "from xgboost import XGBClassifier, plot_importance\n",
    "from sklearn.metrics import accuracy_score, classification_report\n",
    "\n",
    "%matplotlib inline"
   ]
  },
  {
   "cell_type": "markdown",
   "metadata": {},
   "source": [
    "# Load the data"
   ]
  },
  {
   "cell_type": "code",
   "execution_count": null,
   "metadata": {
    "execution": {
     "iopub.execute_input": "2023-10-02T23:21:35.200745Z",
     "iopub.status.busy": "2023-10-02T23:21:35.199795Z",
     "iopub.status.idle": "2023-10-02T23:21:35.926393Z",
     "shell.execute_reply": "2023-10-02T23:21:35.925239Z",
     "shell.execute_reply.started": "2023-10-02T23:21:35.200705Z"
    }
   },
   "outputs": [],
   "source": [
    "dataset = pd.read_csv('../input/sloan-digital-sky-survey-dr18/SDSS_DR18.csv')"
   ]
  },
  {
   "cell_type": "markdown",
   "metadata": {},
   "source": [
    "# Data Exploration and Analysis"
   ]
  },
  {
   "cell_type": "code",
   "execution_count": null,
   "metadata": {
    "execution": {
     "iopub.execute_input": "2023-10-02T23:21:35.929039Z",
     "iopub.status.busy": "2023-10-02T23:21:35.928580Z",
     "iopub.status.idle": "2023-10-02T23:21:35.953922Z",
     "shell.execute_reply": "2023-10-02T23:21:35.952825Z",
     "shell.execute_reply.started": "2023-10-02T23:21:35.928989Z"
    }
   },
   "outputs": [],
   "source": [
    "dataset.head()"
   ]
  },
  {
   "cell_type": "code",
   "execution_count": null,
   "metadata": {
    "execution": {
     "iopub.execute_input": "2023-10-02T23:21:35.956298Z",
     "iopub.status.busy": "2023-10-02T23:21:35.955527Z",
     "iopub.status.idle": "2023-10-02T23:21:35.963814Z",
     "shell.execute_reply": "2023-10-02T23:21:35.962455Z",
     "shell.execute_reply.started": "2023-10-02T23:21:35.956256Z"
    }
   },
   "outputs": [],
   "source": [
    "# Show number of rows and columns (m, n)\n",
    "dataset.shape"
   ]
  },
  {
   "cell_type": "markdown",
   "metadata": {},
   "source": [
    "**Check for null or missing values in the data**"
   ]
  },
  {
   "cell_type": "code",
   "execution_count": null,
   "metadata": {
    "execution": {
     "iopub.execute_input": "2023-10-02T23:21:35.966917Z",
     "iopub.status.busy": "2023-10-02T23:21:35.966219Z",
     "iopub.status.idle": "2023-10-02T23:21:35.990536Z",
     "shell.execute_reply": "2023-10-02T23:21:35.989355Z",
     "shell.execute_reply.started": "2023-10-02T23:21:35.966881Z"
    }
   },
   "outputs": [],
   "source": [
    "null = dataset.isnull().sum().max()\n",
    "\n",
    "if null == 0:\n",
    "    print('There is no missing values')\n",
    "else:\n",
    "    print('There is missing values')"
   ]
  },
  {
   "cell_type": "markdown",
   "metadata": {},
   "source": [
    "\n",
    "\n",
    "Let's show a concise summary of a dataset using info() function                           \n",
    "such as index dtype and columns, non-null values and memory usage."
   ]
  },
  {
   "cell_type": "code",
   "execution_count": null,
   "metadata": {
    "execution": {
     "iopub.execute_input": "2023-10-02T23:21:35.992611Z",
     "iopub.status.busy": "2023-10-02T23:21:35.991937Z",
     "iopub.status.idle": "2023-10-02T23:21:36.019445Z",
     "shell.execute_reply": "2023-10-02T23:21:36.018200Z",
     "shell.execute_reply.started": "2023-10-02T23:21:35.992581Z"
    }
   },
   "outputs": [],
   "source": [
    "dataset.info()"
   ]
  },
  {
   "cell_type": "markdown",
   "metadata": {},
   "source": [
    "\n",
    "Let’s get a quick statistical summary of the dataset using the describe() method. The describe() function applies basic statistical computations on the dataset like extreme values, count of data points standard deviation, etc. Any missing value or NaN value is automatically skipped. describe() function gives a good picture of the distribution of data."
   ]
  },
  {
   "cell_type": "code",
   "execution_count": null,
   "metadata": {
    "execution": {
     "iopub.execute_input": "2023-10-02T23:21:36.021230Z",
     "iopub.status.busy": "2023-10-02T23:21:36.020855Z",
     "iopub.status.idle": "2023-10-02T23:21:36.286045Z",
     "shell.execute_reply": "2023-10-02T23:21:36.284992Z",
     "shell.execute_reply.started": "2023-10-02T23:21:36.021201Z"
    }
   },
   "outputs": [],
   "source": [
    "dataset.describe()"
   ]
  },
  {
   "cell_type": "code",
   "execution_count": null,
   "metadata": {
    "execution": {
     "iopub.execute_input": "2023-10-02T23:21:36.287697Z",
     "iopub.status.busy": "2023-10-02T23:21:36.287411Z",
     "iopub.status.idle": "2023-10-02T23:21:36.295066Z",
     "shell.execute_reply": "2023-10-02T23:21:36.293648Z",
     "shell.execute_reply.started": "2023-10-02T23:21:36.287674Z"
    }
   },
   "outputs": [],
   "source": [
    "dataset.columns.values"
   ]
  },
  {
   "cell_type": "markdown",
   "metadata": {},
   "source": [
    "**Target Column**"
   ]
  },
  {
   "cell_type": "code",
   "execution_count": null,
   "metadata": {
    "execution": {
     "iopub.execute_input": "2023-10-02T23:21:36.297839Z",
     "iopub.status.busy": "2023-10-02T23:21:36.296940Z",
     "iopub.status.idle": "2023-10-02T23:21:36.317290Z",
     "shell.execute_reply": "2023-10-02T23:21:36.316219Z",
     "shell.execute_reply.started": "2023-10-02T23:21:36.297798Z"
    }
   },
   "outputs": [],
   "source": [
    "dataset['class'].value_counts()  # returns a Series containing counts of unique values."
   ]
  },
  {
   "cell_type": "code",
   "execution_count": null,
   "metadata": {
    "execution": {
     "iopub.execute_input": "2023-10-02T23:21:36.318963Z",
     "iopub.status.busy": "2023-10-02T23:21:36.318649Z",
     "iopub.status.idle": "2023-10-02T23:21:36.618647Z",
     "shell.execute_reply": "2023-10-02T23:21:36.617518Z",
     "shell.execute_reply.started": "2023-10-02T23:21:36.318938Z"
    }
   },
   "outputs": [],
   "source": [
    "sns.countplot(x = dataset['class'])\n",
    "plt.title('Class Categories')"
   ]
  },
  {
   "cell_type": "markdown",
   "metadata": {},
   "source": [
    "Let's use **LabelEncoder** to encode target labels with value between 0 and n_classes-1   \n",
    "here the target (class) has three unique values a GALAXY, a STAR and a QSO"
   ]
  },
  {
   "cell_type": "code",
   "execution_count": null,
   "metadata": {
    "execution": {
     "iopub.execute_input": "2023-10-02T23:21:36.622447Z",
     "iopub.status.busy": "2023-10-02T23:21:36.622117Z",
     "iopub.status.idle": "2023-10-02T23:21:36.649678Z",
     "shell.execute_reply": "2023-10-02T23:21:36.648727Z",
     "shell.execute_reply.started": "2023-10-02T23:21:36.622420Z"
    }
   },
   "outputs": [],
   "source": [
    "encoder = LabelEncoder()\n",
    "dataset['class'] = encoder.fit_transform(dataset['class'])"
   ]
  },
  {
   "cell_type": "code",
   "execution_count": null,
   "metadata": {
    "execution": {
     "iopub.execute_input": "2023-10-02T23:21:36.651904Z",
     "iopub.status.busy": "2023-10-02T23:21:36.650703Z",
     "iopub.status.idle": "2023-10-02T23:21:36.668238Z",
     "shell.execute_reply": "2023-10-02T23:21:36.666815Z",
     "shell.execute_reply.started": "2023-10-02T23:21:36.651872Z"
    }
   },
   "outputs": [],
   "source": [
    "dataset['class'].value_counts()"
   ]
  },
  {
   "cell_type": "markdown",
   "metadata": {},
   "source": [
    "A **correlation matrix** is a table containing correlation coefficients between variables, each cell in the table represents the correlation between two variables.\n",
    "\n",
    "we will use a heatmap from seaborn to visualize the correlation between variables"
   ]
  },
  {
   "cell_type": "code",
   "execution_count": null,
   "metadata": {
    "execution": {
     "iopub.execute_input": "2023-10-02T23:21:36.670803Z",
     "iopub.status.busy": "2023-10-02T23:21:36.669782Z",
     "iopub.status.idle": "2023-10-02T23:21:38.195597Z",
     "shell.execute_reply": "2023-10-02T23:21:38.194500Z",
     "shell.execute_reply.started": "2023-10-02T23:21:36.670736Z"
    }
   },
   "outputs": [],
   "source": [
    "corr_matrix = dataset.corr()\n",
    "plt.figure(figsize=(12, 8))\n",
    "sns.heatmap(corr_matrix, center=0, square=True, vmin=-1, vmax=1)\n",
    "plt.title('Correlation Matrix')"
   ]
  },
  {
   "cell_type": "markdown",
   "metadata": {},
   "source": [
    "# Data preprocessing"
   ]
  },
  {
   "cell_type": "code",
   "execution_count": null,
   "metadata": {
    "execution": {
     "iopub.execute_input": "2023-10-02T23:21:38.197476Z",
     "iopub.status.busy": "2023-10-02T23:21:38.197085Z",
     "iopub.status.idle": "2023-10-02T23:21:38.211539Z",
     "shell.execute_reply": "2023-10-02T23:21:38.210331Z",
     "shell.execute_reply.started": "2023-10-02T23:21:38.197439Z"
    }
   },
   "outputs": [],
   "source": [
    "X = dataset.drop('class', axis=1)\n",
    "y = dataset['class']"
   ]
  },
  {
   "cell_type": "code",
   "execution_count": null,
   "metadata": {
    "execution": {
     "iopub.execute_input": "2023-10-02T23:21:38.213692Z",
     "iopub.status.busy": "2023-10-02T23:21:38.212947Z",
     "iopub.status.idle": "2023-10-02T23:21:38.280924Z",
     "shell.execute_reply": "2023-10-02T23:21:38.279830Z",
     "shell.execute_reply.started": "2023-10-02T23:21:38.213647Z"
    }
   },
   "outputs": [],
   "source": [
    "scaler = MinMaxScaler(copy=True, feature_range=(0, 1))\n",
    "X = scaler.fit_transform(X)"
   ]
  },
  {
   "cell_type": "code",
   "execution_count": null,
   "metadata": {
    "execution": {
     "iopub.execute_input": "2023-10-02T23:21:38.282439Z",
     "iopub.status.busy": "2023-10-02T23:21:38.282165Z",
     "iopub.status.idle": "2023-10-02T23:21:38.338410Z",
     "shell.execute_reply": "2023-10-02T23:21:38.337345Z",
     "shell.execute_reply.started": "2023-10-02T23:21:38.282416Z"
    }
   },
   "outputs": [],
   "source": [
    "X_train, X_test, y_train, y_test = train_test_split(X,\n",
    "                                                    y, \n",
    "                                                    test_size=0.3, \n",
    "                                                    shuffle=True, \n",
    "                                                    random_state=44)"
   ]
  },
  {
   "cell_type": "code",
   "execution_count": null,
   "metadata": {
    "execution": {
     "iopub.execute_input": "2023-10-02T23:21:38.340086Z",
     "iopub.status.busy": "2023-10-02T23:21:38.339760Z",
     "iopub.status.idle": "2023-10-02T23:21:38.345921Z",
     "shell.execute_reply": "2023-10-02T23:21:38.345196Z",
     "shell.execute_reply.started": "2023-10-02T23:21:38.340059Z"
    }
   },
   "outputs": [],
   "source": [
    "X_train.shape, X_test.shape, y_train.shape, y_test.shape"
   ]
  },
  {
   "cell_type": "markdown",
   "metadata": {},
   "source": [
    "# The Model"
   ]
  },
  {
   "cell_type": "markdown",
   "metadata": {},
   "source": [
    "**CatBoost** or Categorical Boosting is a high-performance open source library for gradient boosting on decision trees.                                                          It is designed for use on problems like regression and classification having a very large number of independent features. "
   ]
  },
  {
   "cell_type": "code",
   "execution_count": null,
   "metadata": {
    "execution": {
     "iopub.execute_input": "2023-10-02T23:21:38.347815Z",
     "iopub.status.busy": "2023-10-02T23:21:38.347106Z",
     "iopub.status.idle": "2023-10-02T23:21:44.286218Z",
     "shell.execute_reply": "2023-10-02T23:21:44.285345Z",
     "shell.execute_reply.started": "2023-10-02T23:21:38.347782Z"
    }
   },
   "outputs": [],
   "source": [
    "model = CatBoostClassifier(iterations=150,\n",
    "                           learning_rate=0.1,\n",
    "                           depth=5)\n",
    "model.fit(X_train, y_train)"
   ]
  },
  {
   "cell_type": "code",
   "execution_count": null,
   "metadata": {
    "execution": {
     "iopub.execute_input": "2023-10-02T23:21:44.288194Z",
     "iopub.status.busy": "2023-10-02T23:21:44.287373Z",
     "iopub.status.idle": "2023-10-02T23:21:44.669815Z",
     "shell.execute_reply": "2023-10-02T23:21:44.668884Z",
     "shell.execute_reply.started": "2023-10-02T23:21:44.288164Z"
    }
   },
   "outputs": [],
   "source": [
    "y_pred = model.predict(X_test)"
   ]
  },
  {
   "cell_type": "code",
   "execution_count": null,
   "metadata": {
    "execution": {
     "iopub.execute_input": "2023-10-02T23:21:44.671491Z",
     "iopub.status.busy": "2023-10-02T23:21:44.671210Z",
     "iopub.status.idle": "2023-10-02T23:21:44.677292Z",
     "shell.execute_reply": "2023-10-02T23:21:44.676352Z",
     "shell.execute_reply.started": "2023-10-02T23:21:44.671467Z"
    }
   },
   "outputs": [],
   "source": [
    "y_pred[:10], y_test[:10]"
   ]
  },
  {
   "cell_type": "markdown",
   "metadata": {},
   "source": [
    "Calculating Accuracy Score : **((TP + TN) / float(TP + TN + FP + FN))**"
   ]
  },
  {
   "cell_type": "code",
   "execution_count": null,
   "metadata": {
    "execution": {
     "iopub.execute_input": "2023-10-02T23:21:44.679105Z",
     "iopub.status.busy": "2023-10-02T23:21:44.678496Z",
     "iopub.status.idle": "2023-10-02T23:21:44.693952Z",
     "shell.execute_reply": "2023-10-02T23:21:44.692591Z",
     "shell.execute_reply.started": "2023-10-02T23:21:44.679078Z"
    }
   },
   "outputs": [],
   "source": [
    "Acc = accuracy_score(y_test, y_pred)\n",
    "print(f'Accuracy score for CatBoostClassifier: {Acc: .4f}')"
   ]
  },
  {
   "cell_type": "code",
   "execution_count": null,
   "metadata": {
    "execution": {
     "iopub.execute_input": "2023-10-02T23:21:44.696304Z",
     "iopub.status.busy": "2023-10-02T23:21:44.695887Z",
     "iopub.status.idle": "2023-10-02T23:21:44.752839Z",
     "shell.execute_reply": "2023-10-02T23:21:44.751607Z",
     "shell.execute_reply.started": "2023-10-02T23:21:44.696266Z"
    }
   },
   "outputs": [],
   "source": [
    "print('classification report for CatBoostClassifier model: \\n', classification_report(y_pred, y_test))"
   ]
  },
  {
   "cell_type": "markdown",
   "metadata": {},
   "source": [
    "**XGBoost** is an optimized distributed gradient boosting library designed for efficient and scalable training of machine learning models. It is an ensemble learning method that combines the predictions of multiple weak models to produce a stronger prediction. XGBoost stands for “Extreme Gradient Boosting” and it has become one of the most popular and widely used machine learning algorithms"
   ]
  },
  {
   "cell_type": "code",
   "execution_count": null,
   "metadata": {
    "execution": {
     "iopub.execute_input": "2023-10-02T23:21:44.754831Z",
     "iopub.status.busy": "2023-10-02T23:21:44.754476Z",
     "iopub.status.idle": "2023-10-02T23:22:05.982020Z",
     "shell.execute_reply": "2023-10-02T23:22:05.981122Z",
     "shell.execute_reply.started": "2023-10-02T23:21:44.754804Z"
    }
   },
   "outputs": [],
   "source": [
    "xgbModel = XGBClassifier(n_estimators=50,          # Number of trees we want to build\n",
    "                         max_depth=4,              # How deeply each tree is allowed to grow\n",
    "                         learning_rate=0.1,        # Step size \n",
    "                         objective='reg:logistic') # It determines the loss function\n",
    "xgbModel.fit(X_train, y_train)"
   ]
  },
  {
   "cell_type": "code",
   "execution_count": null,
   "metadata": {
    "execution": {
     "iopub.execute_input": "2023-10-02T23:22:05.987777Z",
     "iopub.status.busy": "2023-10-02T23:22:05.985493Z",
     "iopub.status.idle": "2023-10-02T23:22:06.021714Z",
     "shell.execute_reply": "2023-10-02T23:22:06.020899Z",
     "shell.execute_reply.started": "2023-10-02T23:22:05.987722Z"
    }
   },
   "outputs": [],
   "source": [
    "preds = xgbModel.predict(X_test)"
   ]
  },
  {
   "cell_type": "code",
   "execution_count": null,
   "metadata": {
    "execution": {
     "iopub.execute_input": "2023-10-02T23:22:06.026296Z",
     "iopub.status.busy": "2023-10-02T23:22:06.025503Z",
     "iopub.status.idle": "2023-10-02T23:22:06.039018Z",
     "shell.execute_reply": "2023-10-02T23:22:06.037869Z",
     "shell.execute_reply.started": "2023-10-02T23:22:06.026260Z"
    }
   },
   "outputs": [],
   "source": [
    "preds[:10], y_test[:10]"
   ]
  },
  {
   "cell_type": "code",
   "execution_count": null,
   "metadata": {
    "execution": {
     "iopub.execute_input": "2023-10-02T23:22:06.040629Z",
     "iopub.status.busy": "2023-10-02T23:22:06.040259Z",
     "iopub.status.idle": "2023-10-02T23:22:06.054311Z",
     "shell.execute_reply": "2023-10-02T23:22:06.053572Z",
     "shell.execute_reply.started": "2023-10-02T23:22:06.040603Z"
    }
   },
   "outputs": [],
   "source": [
    "Acc = accuracy_score(y_test, preds)\n",
    "print(f'Accuracy score for XGBClassifier: {Acc: .4f}')"
   ]
  },
  {
   "cell_type": "code",
   "execution_count": null,
   "metadata": {
    "execution": {
     "iopub.execute_input": "2023-10-02T23:22:06.058113Z",
     "iopub.status.busy": "2023-10-02T23:22:06.057774Z",
     "iopub.status.idle": "2023-10-02T23:22:06.116509Z",
     "shell.execute_reply": "2023-10-02T23:22:06.115723Z",
     "shell.execute_reply.started": "2023-10-02T23:22:06.058085Z"
    }
   },
   "outputs": [],
   "source": [
    "print('classification report for XGBClassifier model: \\n', classification_report(preds, y_test))"
   ]
  },
  {
   "cell_type": "markdown",
   "metadata": {},
   "source": [
    "# Feature importance with XGBoost"
   ]
  },
  {
   "cell_type": "code",
   "execution_count": null,
   "metadata": {
    "execution": {
     "iopub.execute_input": "2023-10-02T23:22:06.118348Z",
     "iopub.status.busy": "2023-10-02T23:22:06.117786Z",
     "iopub.status.idle": "2023-10-02T23:22:06.448018Z",
     "shell.execute_reply": "2023-10-02T23:22:06.446878Z",
     "shell.execute_reply.started": "2023-10-02T23:22:06.118320Z"
    }
   },
   "outputs": [],
   "source": [
    "# Let's plot top 10 most important features\n",
    "plot_importance(xgbModel, max_num_features=10)"
   ]
  }
 ],
 "metadata": {
  "kernelspec": {
   "display_name": "Python 3 (ipykernel)",
   "language": "python",
   "name": "python3"
  },
  "language_info": {
   "codemirror_mode": {
    "name": "ipython",
    "version": 3
   },
   "file_extension": ".py",
   "mimetype": "text/x-python",
   "name": "python",
   "nbconvert_exporter": "python",
   "pygments_lexer": "ipython3",
   "version": "3.6.4"
  }
 },
 "nbformat": 4,
 "nbformat_minor": 4
}
