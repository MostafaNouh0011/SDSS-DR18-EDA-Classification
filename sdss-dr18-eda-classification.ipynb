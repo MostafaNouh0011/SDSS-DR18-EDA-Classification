{
 "cells": [
  {
   "cell_type": "markdown",
   "metadata": {},
   "source": [
    "# Intro"
   ]
  },
  {
   "cell_type": "markdown",
   "metadata": {},
   "source": [
    "**Sloan Digital Sky Survey - DR18**\n",
    "\n",
    "In this Machine Learning project we will classify the observations from the Data Release (DR) 18 of the Sloan Digital Sky Survey (SDSS). Each observation is described by 42 features and 1 class column classifying the observation as either:\n",
    "* a STAR\n",
    "* a GALAXY\n",
    "* a QSO (Quasi-Stellar Object) or a Quasar.\n",
    "\n",
    "We will use **CatBoostClassifier** from catboost and **XGBClassifier** from xgboost"
   ]
  },
  {
   "cell_type": "markdown",
   "metadata": {},
   "source": [
    "# Load packages"
   ]
  },
  {
   "cell_type": "code",
   "execution_count": 5,
   "metadata": {
    "execution": {
     "iopub.execute_input": "2023-10-02T23:21:35.156602Z",
     "iopub.status.busy": "2023-10-02T23:21:35.156234Z",
     "iopub.status.idle": "2023-10-02T23:21:35.163972Z",
     "shell.execute_reply": "2023-10-02T23:21:35.162806Z",
     "shell.execute_reply.started": "2023-10-02T23:21:35.156576Z"
    }
   },
   "outputs": [],
   "source": [
    "import pandas as pd\n",
    "import numpy as np\n",
    "import seaborn as sns\n",
    "import matplotlib.pyplot as plt\n",
    "\n",
    "from sklearn.model_selection import train_test_split\n",
    "from sklearn.preprocessing import LabelEncoder, MinMaxScaler\n",
    "from catboost import CatBoostClassifier\n",
    "from xgboost import XGBClassifier, plot_importance\n",
    "from sklearn.metrics import accuracy_score, classification_report\n",
    "\n",
    "%matplotlib inline"
   ]
  },
  {
   "cell_type": "markdown",
   "metadata": {},
   "source": [
    "# Load the data"
   ]
  },
  {
   "cell_type": "code",
   "execution_count": 6,
   "metadata": {
    "execution": {
     "iopub.execute_input": "2023-10-02T23:21:35.200745Z",
     "iopub.status.busy": "2023-10-02T23:21:35.199795Z",
     "iopub.status.idle": "2023-10-02T23:21:35.926393Z",
     "shell.execute_reply": "2023-10-02T23:21:35.925239Z",
     "shell.execute_reply.started": "2023-10-02T23:21:35.200705Z"
    }
   },
   "outputs": [],
   "source": [
    "dataset = pd.read_csv('SDSS_DR18.csv')"
   ]
  },
  {
   "cell_type": "markdown",
   "metadata": {},
   "source": [
    "# Data Exploration and Analysis"
   ]
  },
  {
   "cell_type": "code",
   "execution_count": 7,
   "metadata": {
    "execution": {
     "iopub.execute_input": "2023-10-02T23:21:35.929039Z",
     "iopub.status.busy": "2023-10-02T23:21:35.928580Z",
     "iopub.status.idle": "2023-10-02T23:21:35.953922Z",
     "shell.execute_reply": "2023-10-02T23:21:35.952825Z",
     "shell.execute_reply.started": "2023-10-02T23:21:35.928989Z"
    }
   },
   "outputs": [
    {
     "data": {
      "text/html": [
       "<div>\n",
       "<style scoped>\n",
       "    .dataframe tbody tr th:only-of-type {\n",
       "        vertical-align: middle;\n",
       "    }\n",
       "\n",
       "    .dataframe tbody tr th {\n",
       "        vertical-align: top;\n",
       "    }\n",
       "\n",
       "    .dataframe thead th {\n",
       "        text-align: right;\n",
       "    }\n",
       "</style>\n",
       "<table border=\"1\" class=\"dataframe\">\n",
       "  <thead>\n",
       "    <tr style=\"text-align: right;\">\n",
       "      <th></th>\n",
       "      <th>objid</th>\n",
       "      <th>specobjid</th>\n",
       "      <th>ra</th>\n",
       "      <th>dec</th>\n",
       "      <th>u</th>\n",
       "      <th>g</th>\n",
       "      <th>r</th>\n",
       "      <th>i</th>\n",
       "      <th>z</th>\n",
       "      <th>run</th>\n",
       "      <th>...</th>\n",
       "      <th>psfMag_g</th>\n",
       "      <th>psfMag_i</th>\n",
       "      <th>psfMag_z</th>\n",
       "      <th>expAB_u</th>\n",
       "      <th>expAB_g</th>\n",
       "      <th>expAB_r</th>\n",
       "      <th>expAB_i</th>\n",
       "      <th>expAB_z</th>\n",
       "      <th>redshift</th>\n",
       "      <th>class</th>\n",
       "    </tr>\n",
       "  </thead>\n",
       "  <tbody>\n",
       "    <tr>\n",
       "      <th>0</th>\n",
       "      <td>1.240000e+18</td>\n",
       "      <td>3.240000e+17</td>\n",
       "      <td>184.950869</td>\n",
       "      <td>0.733068</td>\n",
       "      <td>18.87062</td>\n",
       "      <td>17.59612</td>\n",
       "      <td>17.11245</td>\n",
       "      <td>16.83899</td>\n",
       "      <td>16.70908</td>\n",
       "      <td>756</td>\n",
       "      <td>...</td>\n",
       "      <td>19.96352</td>\n",
       "      <td>19.25145</td>\n",
       "      <td>19.05230</td>\n",
       "      <td>0.479021</td>\n",
       "      <td>0.518483</td>\n",
       "      <td>0.520474</td>\n",
       "      <td>0.508502</td>\n",
       "      <td>0.488969</td>\n",
       "      <td>0.041691</td>\n",
       "      <td>GALAXY</td>\n",
       "    </tr>\n",
       "    <tr>\n",
       "      <th>1</th>\n",
       "      <td>1.240000e+18</td>\n",
       "      <td>3.250000e+17</td>\n",
       "      <td>185.729201</td>\n",
       "      <td>0.679704</td>\n",
       "      <td>19.59560</td>\n",
       "      <td>19.92153</td>\n",
       "      <td>20.34448</td>\n",
       "      <td>20.66213</td>\n",
       "      <td>20.59599</td>\n",
       "      <td>756</td>\n",
       "      <td>...</td>\n",
       "      <td>19.92417</td>\n",
       "      <td>20.65535</td>\n",
       "      <td>20.57387</td>\n",
       "      <td>0.573926</td>\n",
       "      <td>0.531728</td>\n",
       "      <td>0.403072</td>\n",
       "      <td>0.999874</td>\n",
       "      <td>0.189495</td>\n",
       "      <td>-0.000814</td>\n",
       "      <td>STAR</td>\n",
       "    </tr>\n",
       "    <tr>\n",
       "      <th>2</th>\n",
       "      <td>1.240000e+18</td>\n",
       "      <td>3.240000e+17</td>\n",
       "      <td>185.687690</td>\n",
       "      <td>0.823480</td>\n",
       "      <td>19.26421</td>\n",
       "      <td>17.87891</td>\n",
       "      <td>17.09593</td>\n",
       "      <td>16.65159</td>\n",
       "      <td>16.35329</td>\n",
       "      <td>756</td>\n",
       "      <td>...</td>\n",
       "      <td>19.33645</td>\n",
       "      <td>18.16669</td>\n",
       "      <td>17.78844</td>\n",
       "      <td>0.701666</td>\n",
       "      <td>0.743386</td>\n",
       "      <td>0.770897</td>\n",
       "      <td>0.778642</td>\n",
       "      <td>0.736771</td>\n",
       "      <td>0.113069</td>\n",
       "      <td>GALAXY</td>\n",
       "    </tr>\n",
       "    <tr>\n",
       "      <th>3</th>\n",
       "      <td>1.240000e+18</td>\n",
       "      <td>2.880000e+18</td>\n",
       "      <td>185.677904</td>\n",
       "      <td>0.768362</td>\n",
       "      <td>19.49739</td>\n",
       "      <td>17.96166</td>\n",
       "      <td>17.41269</td>\n",
       "      <td>17.20545</td>\n",
       "      <td>17.11567</td>\n",
       "      <td>756</td>\n",
       "      <td>...</td>\n",
       "      <td>17.96176</td>\n",
       "      <td>17.21564</td>\n",
       "      <td>17.12367</td>\n",
       "      <td>0.999818</td>\n",
       "      <td>0.787760</td>\n",
       "      <td>0.745611</td>\n",
       "      <td>0.399718</td>\n",
       "      <td>0.986137</td>\n",
       "      <td>0.000087</td>\n",
       "      <td>STAR</td>\n",
       "    </tr>\n",
       "    <tr>\n",
       "      <th>4</th>\n",
       "      <td>1.240000e+18</td>\n",
       "      <td>2.880000e+18</td>\n",
       "      <td>185.814763</td>\n",
       "      <td>0.776940</td>\n",
       "      <td>18.31519</td>\n",
       "      <td>16.83033</td>\n",
       "      <td>16.26352</td>\n",
       "      <td>16.06320</td>\n",
       "      <td>15.97527</td>\n",
       "      <td>756</td>\n",
       "      <td>...</td>\n",
       "      <td>16.85104</td>\n",
       "      <td>16.08275</td>\n",
       "      <td>15.98694</td>\n",
       "      <td>0.999795</td>\n",
       "      <td>0.834450</td>\n",
       "      <td>0.723526</td>\n",
       "      <td>0.712259</td>\n",
       "      <td>0.527055</td>\n",
       "      <td>0.000018</td>\n",
       "      <td>STAR</td>\n",
       "    </tr>\n",
       "  </tbody>\n",
       "</table>\n",
       "<p>5 rows × 43 columns</p>\n",
       "</div>"
      ],
      "text/plain": [
       "          objid     specobjid          ra       dec         u         g  \\\n",
       "0  1.240000e+18  3.240000e+17  184.950869  0.733068  18.87062  17.59612   \n",
       "1  1.240000e+18  3.250000e+17  185.729201  0.679704  19.59560  19.92153   \n",
       "2  1.240000e+18  3.240000e+17  185.687690  0.823480  19.26421  17.87891   \n",
       "3  1.240000e+18  2.880000e+18  185.677904  0.768362  19.49739  17.96166   \n",
       "4  1.240000e+18  2.880000e+18  185.814763  0.776940  18.31519  16.83033   \n",
       "\n",
       "          r         i         z  run  ...  psfMag_g  psfMag_i  psfMag_z  \\\n",
       "0  17.11245  16.83899  16.70908  756  ...  19.96352  19.25145  19.05230   \n",
       "1  20.34448  20.66213  20.59599  756  ...  19.92417  20.65535  20.57387   \n",
       "2  17.09593  16.65159  16.35329  756  ...  19.33645  18.16669  17.78844   \n",
       "3  17.41269  17.20545  17.11567  756  ...  17.96176  17.21564  17.12367   \n",
       "4  16.26352  16.06320  15.97527  756  ...  16.85104  16.08275  15.98694   \n",
       "\n",
       "    expAB_u   expAB_g   expAB_r   expAB_i   expAB_z  redshift   class  \n",
       "0  0.479021  0.518483  0.520474  0.508502  0.488969  0.041691  GALAXY  \n",
       "1  0.573926  0.531728  0.403072  0.999874  0.189495 -0.000814    STAR  \n",
       "2  0.701666  0.743386  0.770897  0.778642  0.736771  0.113069  GALAXY  \n",
       "3  0.999818  0.787760  0.745611  0.399718  0.986137  0.000087    STAR  \n",
       "4  0.999795  0.834450  0.723526  0.712259  0.527055  0.000018    STAR  \n",
       "\n",
       "[5 rows x 43 columns]"
      ]
     },
     "execution_count": 7,
     "metadata": {},
     "output_type": "execute_result"
    }
   ],
   "source": [
    "dataset.head()"
   ]
  },
  {
   "cell_type": "code",
   "execution_count": 8,
   "metadata": {
    "execution": {
     "iopub.execute_input": "2023-10-02T23:21:35.956298Z",
     "iopub.status.busy": "2023-10-02T23:21:35.955527Z",
     "iopub.status.idle": "2023-10-02T23:21:35.963814Z",
     "shell.execute_reply": "2023-10-02T23:21:35.962455Z",
     "shell.execute_reply.started": "2023-10-02T23:21:35.956256Z"
    }
   },
   "outputs": [
    {
     "data": {
      "text/plain": [
       "(100000, 43)"
      ]
     },
     "execution_count": 8,
     "metadata": {},
     "output_type": "execute_result"
    }
   ],
   "source": [
    "# Show number of rows and columns (m, n)\n",
    "dataset.shape"
   ]
  },
  {
   "cell_type": "markdown",
   "metadata": {},
   "source": [
    "**Check for null or missing values in the data**"
   ]
  },
  {
   "cell_type": "code",
   "execution_count": 9,
   "metadata": {
    "execution": {
     "iopub.execute_input": "2023-10-02T23:21:35.966917Z",
     "iopub.status.busy": "2023-10-02T23:21:35.966219Z",
     "iopub.status.idle": "2023-10-02T23:21:35.990536Z",
     "shell.execute_reply": "2023-10-02T23:21:35.989355Z",
     "shell.execute_reply.started": "2023-10-02T23:21:35.966881Z"
    }
   },
   "outputs": [
    {
     "name": "stdout",
     "output_type": "stream",
     "text": [
      "There is no missing values\n"
     ]
    }
   ],
   "source": [
    "null = dataset.isnull().sum().max()\n",
    "\n",
    "if null == 0:\n",
    "    print('There is no missing values')\n",
    "else:\n",
    "    print('There is missing values')"
   ]
  },
  {
   "cell_type": "markdown",
   "metadata": {},
   "source": [
    "\n",
    "\n",
    "Let's show a concise summary of a dataset using info() function                           \n",
    "such as index dtype and columns, non-null values and memory usage."
   ]
  },
  {
   "cell_type": "code",
   "execution_count": 10,
   "metadata": {
    "execution": {
     "iopub.execute_input": "2023-10-02T23:21:35.992611Z",
     "iopub.status.busy": "2023-10-02T23:21:35.991937Z",
     "iopub.status.idle": "2023-10-02T23:21:36.019445Z",
     "shell.execute_reply": "2023-10-02T23:21:36.018200Z",
     "shell.execute_reply.started": "2023-10-02T23:21:35.992581Z"
    }
   },
   "outputs": [
    {
     "name": "stdout",
     "output_type": "stream",
     "text": [
      "<class 'pandas.core.frame.DataFrame'>\n",
      "RangeIndex: 100000 entries, 0 to 99999\n",
      "Data columns (total 43 columns):\n",
      " #   Column       Non-Null Count   Dtype  \n",
      "---  ------       --------------   -----  \n",
      " 0   objid        100000 non-null  float64\n",
      " 1   specobjid    100000 non-null  float64\n",
      " 2   ra           100000 non-null  float64\n",
      " 3   dec          100000 non-null  float64\n",
      " 4   u            100000 non-null  float64\n",
      " 5   g            100000 non-null  float64\n",
      " 6   r            100000 non-null  float64\n",
      " 7   i            100000 non-null  float64\n",
      " 8   z            100000 non-null  float64\n",
      " 9   run          100000 non-null  int64  \n",
      " 10  rerun        100000 non-null  int64  \n",
      " 11  camcol       100000 non-null  int64  \n",
      " 12  field        100000 non-null  int64  \n",
      " 13  plate        100000 non-null  int64  \n",
      " 14  mjd          100000 non-null  int64  \n",
      " 15  fiberid      100000 non-null  int64  \n",
      " 16  petroRad_u   100000 non-null  float64\n",
      " 17  petroRad_g   100000 non-null  float64\n",
      " 18  petroRad_i   100000 non-null  float64\n",
      " 19  petroRad_r   100000 non-null  float64\n",
      " 20  petroRad_z   100000 non-null  float64\n",
      " 21  petroFlux_u  100000 non-null  float64\n",
      " 22  petroFlux_g  100000 non-null  float64\n",
      " 23  petroFlux_i  100000 non-null  float64\n",
      " 24  petroFlux_r  100000 non-null  float64\n",
      " 25  petroFlux_z  100000 non-null  float64\n",
      " 26  petroR50_u   100000 non-null  float64\n",
      " 27  petroR50_g   100000 non-null  float64\n",
      " 28  petroR50_i   100000 non-null  float64\n",
      " 29  petroR50_r   100000 non-null  float64\n",
      " 30  petroR50_z   100000 non-null  float64\n",
      " 31  psfMag_u     100000 non-null  float64\n",
      " 32  psfMag_r     100000 non-null  float64\n",
      " 33  psfMag_g     100000 non-null  float64\n",
      " 34  psfMag_i     100000 non-null  float64\n",
      " 35  psfMag_z     100000 non-null  float64\n",
      " 36  expAB_u      100000 non-null  float64\n",
      " 37  expAB_g      100000 non-null  float64\n",
      " 38  expAB_r      100000 non-null  float64\n",
      " 39  expAB_i      100000 non-null  float64\n",
      " 40  expAB_z      100000 non-null  float64\n",
      " 41  redshift     100000 non-null  float64\n",
      " 42  class        100000 non-null  object \n",
      "dtypes: float64(35), int64(7), object(1)\n",
      "memory usage: 32.8+ MB\n"
     ]
    }
   ],
   "source": [
    "dataset.info()"
   ]
  },
  {
   "cell_type": "markdown",
   "metadata": {},
   "source": [
    "\n",
    "Let’s get a quick statistical summary of the dataset using the describe() method. The describe() function applies basic statistical computations on the dataset like extreme values, count of data points standard deviation, etc. Any missing value or NaN value is automatically skipped. describe() function gives a good picture of the distribution of data."
   ]
  },
  {
   "cell_type": "code",
   "execution_count": 11,
   "metadata": {
    "execution": {
     "iopub.execute_input": "2023-10-02T23:21:36.021230Z",
     "iopub.status.busy": "2023-10-02T23:21:36.020855Z",
     "iopub.status.idle": "2023-10-02T23:21:36.286045Z",
     "shell.execute_reply": "2023-10-02T23:21:36.284992Z",
     "shell.execute_reply.started": "2023-10-02T23:21:36.021201Z"
    }
   },
   "outputs": [
    {
     "data": {
      "text/html": [
       "<div>\n",
       "<style scoped>\n",
       "    .dataframe tbody tr th:only-of-type {\n",
       "        vertical-align: middle;\n",
       "    }\n",
       "\n",
       "    .dataframe tbody tr th {\n",
       "        vertical-align: top;\n",
       "    }\n",
       "\n",
       "    .dataframe thead th {\n",
       "        text-align: right;\n",
       "    }\n",
       "</style>\n",
       "<table border=\"1\" class=\"dataframe\">\n",
       "  <thead>\n",
       "    <tr style=\"text-align: right;\">\n",
       "      <th></th>\n",
       "      <th>objid</th>\n",
       "      <th>specobjid</th>\n",
       "      <th>ra</th>\n",
       "      <th>dec</th>\n",
       "      <th>u</th>\n",
       "      <th>g</th>\n",
       "      <th>r</th>\n",
       "      <th>i</th>\n",
       "      <th>z</th>\n",
       "      <th>run</th>\n",
       "      <th>...</th>\n",
       "      <th>psfMag_r</th>\n",
       "      <th>psfMag_g</th>\n",
       "      <th>psfMag_i</th>\n",
       "      <th>psfMag_z</th>\n",
       "      <th>expAB_u</th>\n",
       "      <th>expAB_g</th>\n",
       "      <th>expAB_r</th>\n",
       "      <th>expAB_i</th>\n",
       "      <th>expAB_z</th>\n",
       "      <th>redshift</th>\n",
       "    </tr>\n",
       "  </thead>\n",
       "  <tbody>\n",
       "    <tr>\n",
       "      <th>count</th>\n",
       "      <td>1.000000e+05</td>\n",
       "      <td>1.000000e+05</td>\n",
       "      <td>100000.000000</td>\n",
       "      <td>100000.000000</td>\n",
       "      <td>100000.000000</td>\n",
       "      <td>100000.000000</td>\n",
       "      <td>100000.000000</td>\n",
       "      <td>100000.000000</td>\n",
       "      <td>100000.000000</td>\n",
       "      <td>100000.000000</td>\n",
       "      <td>...</td>\n",
       "      <td>100000.000000</td>\n",
       "      <td>100000.000000</td>\n",
       "      <td>100000.000000</td>\n",
       "      <td>100000.000000</td>\n",
       "      <td>100000.000000</td>\n",
       "      <td>100000.000000</td>\n",
       "      <td>100000.000000</td>\n",
       "      <td>100000.000000</td>\n",
       "      <td>100000.000000</td>\n",
       "      <td>100000.000000</td>\n",
       "    </tr>\n",
       "    <tr>\n",
       "      <th>mean</th>\n",
       "      <td>1.240000e+18</td>\n",
       "      <td>1.859200e+18</td>\n",
       "      <td>168.856657</td>\n",
       "      <td>17.832739</td>\n",
       "      <td>18.641137</td>\n",
       "      <td>17.407088</td>\n",
       "      <td>16.878550</td>\n",
       "      <td>16.517137</td>\n",
       "      <td>16.154837</td>\n",
       "      <td>1477.564770</td>\n",
       "      <td>...</td>\n",
       "      <td>17.884605</td>\n",
       "      <td>18.392280</td>\n",
       "      <td>17.531364</td>\n",
       "      <td>17.138493</td>\n",
       "      <td>0.588445</td>\n",
       "      <td>0.673314</td>\n",
       "      <td>0.660934</td>\n",
       "      <td>0.549130</td>\n",
       "      <td>0.311389</td>\n",
       "      <td>0.168441</td>\n",
       "    </tr>\n",
       "    <tr>\n",
       "      <th>std</th>\n",
       "      <td>3.020047e+06</td>\n",
       "      <td>2.265257e+18</td>\n",
       "      <td>83.844216</td>\n",
       "      <td>26.344079</td>\n",
       "      <td>0.829035</td>\n",
       "      <td>0.974683</td>\n",
       "      <td>1.118858</td>\n",
       "      <td>31.694636</td>\n",
       "      <td>54.871034</td>\n",
       "      <td>459.696408</td>\n",
       "      <td>...</td>\n",
       "      <td>1.288541</td>\n",
       "      <td>1.282606</td>\n",
       "      <td>31.701194</td>\n",
       "      <td>54.876352</td>\n",
       "      <td>0.260097</td>\n",
       "      <td>0.235317</td>\n",
       "      <td>0.242927</td>\n",
       "      <td>31.622620</td>\n",
       "      <td>54.770201</td>\n",
       "      <td>0.434285</td>\n",
       "    </tr>\n",
       "    <tr>\n",
       "      <th>min</th>\n",
       "      <td>1.240000e+18</td>\n",
       "      <td>2.990000e+17</td>\n",
       "      <td>0.003092</td>\n",
       "      <td>-11.252825</td>\n",
       "      <td>11.726470</td>\n",
       "      <td>11.696170</td>\n",
       "      <td>11.277090</td>\n",
       "      <td>-9999.000000</td>\n",
       "      <td>-9999.000000</td>\n",
       "      <td>94.000000</td>\n",
       "      <td>...</td>\n",
       "      <td>11.253550</td>\n",
       "      <td>11.658570</td>\n",
       "      <td>-9999.000000</td>\n",
       "      <td>-9999.000000</td>\n",
       "      <td>0.050000</td>\n",
       "      <td>0.050000</td>\n",
       "      <td>0.050000</td>\n",
       "      <td>-9999.000000</td>\n",
       "      <td>-9999.000000</td>\n",
       "      <td>-0.004268</td>\n",
       "    </tr>\n",
       "    <tr>\n",
       "      <th>25%</th>\n",
       "      <td>1.240000e+18</td>\n",
       "      <td>5.280000e+17</td>\n",
       "      <td>128.879582</td>\n",
       "      <td>-0.537780</td>\n",
       "      <td>18.214315</td>\n",
       "      <td>16.853340</td>\n",
       "      <td>16.194763</td>\n",
       "      <td>15.861995</td>\n",
       "      <td>15.620268</td>\n",
       "      <td>1239.000000</td>\n",
       "      <td>...</td>\n",
       "      <td>17.098733</td>\n",
       "      <td>17.600867</td>\n",
       "      <td>16.842290</td>\n",
       "      <td>16.645390</td>\n",
       "      <td>0.387406</td>\n",
       "      <td>0.514009</td>\n",
       "      <td>0.487474</td>\n",
       "      <td>0.470529</td>\n",
       "      <td>0.409965</td>\n",
       "      <td>0.000065</td>\n",
       "    </tr>\n",
       "    <tr>\n",
       "      <th>50%</th>\n",
       "      <td>1.240000e+18</td>\n",
       "      <td>6.980000e+17</td>\n",
       "      <td>168.079889</td>\n",
       "      <td>2.899490</td>\n",
       "      <td>18.878005</td>\n",
       "      <td>17.520310</td>\n",
       "      <td>16.896065</td>\n",
       "      <td>16.594740</td>\n",
       "      <td>16.419040</td>\n",
       "      <td>1458.000000</td>\n",
       "      <td>...</td>\n",
       "      <td>18.023495</td>\n",
       "      <td>18.585375</td>\n",
       "      <td>17.742665</td>\n",
       "      <td>17.526325</td>\n",
       "      <td>0.611638</td>\n",
       "      <td>0.704848</td>\n",
       "      <td>0.692239</td>\n",
       "      <td>0.679104</td>\n",
       "      <td>0.641443</td>\n",
       "      <td>0.048772</td>\n",
       "    </tr>\n",
       "    <tr>\n",
       "      <th>75%</th>\n",
       "      <td>1.240000e+18</td>\n",
       "      <td>2.750000e+18</td>\n",
       "      <td>214.554569</td>\n",
       "      <td>46.911371</td>\n",
       "      <td>19.275750</td>\n",
       "      <td>18.052460</td>\n",
       "      <td>17.565593</td>\n",
       "      <td>17.310102</td>\n",
       "      <td>17.193873</td>\n",
       "      <td>1854.000000</td>\n",
       "      <td>...</td>\n",
       "      <td>18.858960</td>\n",
       "      <td>19.327640</td>\n",
       "      <td>18.586033</td>\n",
       "      <td>18.366243</td>\n",
       "      <td>0.796679</td>\n",
       "      <td>0.864902</td>\n",
       "      <td>0.863116</td>\n",
       "      <td>0.849946</td>\n",
       "      <td>0.822491</td>\n",
       "      <td>0.096680</td>\n",
       "    </tr>\n",
       "    <tr>\n",
       "      <th>max</th>\n",
       "      <td>1.240000e+18</td>\n",
       "      <td>1.410000e+19</td>\n",
       "      <td>359.996095</td>\n",
       "      <td>68.731483</td>\n",
       "      <td>19.599990</td>\n",
       "      <td>19.977270</td>\n",
       "      <td>31.698160</td>\n",
       "      <td>30.980870</td>\n",
       "      <td>28.668700</td>\n",
       "      <td>2327.000000</td>\n",
       "      <td>...</td>\n",
       "      <td>24.802850</td>\n",
       "      <td>25.962180</td>\n",
       "      <td>24.362590</td>\n",
       "      <td>27.043280</td>\n",
       "      <td>1.000000</td>\n",
       "      <td>1.000000</td>\n",
       "      <td>1.000000</td>\n",
       "      <td>1.000000</td>\n",
       "      <td>1.000000</td>\n",
       "      <td>6.990327</td>\n",
       "    </tr>\n",
       "  </tbody>\n",
       "</table>\n",
       "<p>8 rows × 42 columns</p>\n",
       "</div>"
      ],
      "text/plain": [
       "              objid     specobjid             ra            dec  \\\n",
       "count  1.000000e+05  1.000000e+05  100000.000000  100000.000000   \n",
       "mean   1.240000e+18  1.859200e+18     168.856657      17.832739   \n",
       "std    3.020047e+06  2.265257e+18      83.844216      26.344079   \n",
       "min    1.240000e+18  2.990000e+17       0.003092     -11.252825   \n",
       "25%    1.240000e+18  5.280000e+17     128.879582      -0.537780   \n",
       "50%    1.240000e+18  6.980000e+17     168.079889       2.899490   \n",
       "75%    1.240000e+18  2.750000e+18     214.554569      46.911371   \n",
       "max    1.240000e+18  1.410000e+19     359.996095      68.731483   \n",
       "\n",
       "                   u              g              r              i  \\\n",
       "count  100000.000000  100000.000000  100000.000000  100000.000000   \n",
       "mean       18.641137      17.407088      16.878550      16.517137   \n",
       "std         0.829035       0.974683       1.118858      31.694636   \n",
       "min        11.726470      11.696170      11.277090   -9999.000000   \n",
       "25%        18.214315      16.853340      16.194763      15.861995   \n",
       "50%        18.878005      17.520310      16.896065      16.594740   \n",
       "75%        19.275750      18.052460      17.565593      17.310102   \n",
       "max        19.599990      19.977270      31.698160      30.980870   \n",
       "\n",
       "                   z            run  ...       psfMag_r       psfMag_g  \\\n",
       "count  100000.000000  100000.000000  ...  100000.000000  100000.000000   \n",
       "mean       16.154837    1477.564770  ...      17.884605      18.392280   \n",
       "std        54.871034     459.696408  ...       1.288541       1.282606   \n",
       "min     -9999.000000      94.000000  ...      11.253550      11.658570   \n",
       "25%        15.620268    1239.000000  ...      17.098733      17.600867   \n",
       "50%        16.419040    1458.000000  ...      18.023495      18.585375   \n",
       "75%        17.193873    1854.000000  ...      18.858960      19.327640   \n",
       "max        28.668700    2327.000000  ...      24.802850      25.962180   \n",
       "\n",
       "            psfMag_i       psfMag_z        expAB_u        expAB_g  \\\n",
       "count  100000.000000  100000.000000  100000.000000  100000.000000   \n",
       "mean       17.531364      17.138493       0.588445       0.673314   \n",
       "std        31.701194      54.876352       0.260097       0.235317   \n",
       "min     -9999.000000   -9999.000000       0.050000       0.050000   \n",
       "25%        16.842290      16.645390       0.387406       0.514009   \n",
       "50%        17.742665      17.526325       0.611638       0.704848   \n",
       "75%        18.586033      18.366243       0.796679       0.864902   \n",
       "max        24.362590      27.043280       1.000000       1.000000   \n",
       "\n",
       "             expAB_r        expAB_i        expAB_z       redshift  \n",
       "count  100000.000000  100000.000000  100000.000000  100000.000000  \n",
       "mean        0.660934       0.549130       0.311389       0.168441  \n",
       "std         0.242927      31.622620      54.770201       0.434285  \n",
       "min         0.050000   -9999.000000   -9999.000000      -0.004268  \n",
       "25%         0.487474       0.470529       0.409965       0.000065  \n",
       "50%         0.692239       0.679104       0.641443       0.048772  \n",
       "75%         0.863116       0.849946       0.822491       0.096680  \n",
       "max         1.000000       1.000000       1.000000       6.990327  \n",
       "\n",
       "[8 rows x 42 columns]"
      ]
     },
     "execution_count": 11,
     "metadata": {},
     "output_type": "execute_result"
    }
   ],
   "source": [
    "dataset.describe()"
   ]
  },
  {
   "cell_type": "code",
   "execution_count": 12,
   "metadata": {
    "execution": {
     "iopub.execute_input": "2023-10-02T23:21:36.287697Z",
     "iopub.status.busy": "2023-10-02T23:21:36.287411Z",
     "iopub.status.idle": "2023-10-02T23:21:36.295066Z",
     "shell.execute_reply": "2023-10-02T23:21:36.293648Z",
     "shell.execute_reply.started": "2023-10-02T23:21:36.287674Z"
    }
   },
   "outputs": [
    {
     "data": {
      "text/plain": [
       "array(['objid', 'specobjid', 'ra', 'dec', 'u', 'g', 'r', 'i', 'z', 'run',\n",
       "       'rerun', 'camcol', 'field', 'plate', 'mjd', 'fiberid',\n",
       "       'petroRad_u', 'petroRad_g', 'petroRad_i', 'petroRad_r',\n",
       "       'petroRad_z', 'petroFlux_u', 'petroFlux_g', 'petroFlux_i',\n",
       "       'petroFlux_r', 'petroFlux_z', 'petroR50_u', 'petroR50_g',\n",
       "       'petroR50_i', 'petroR50_r', 'petroR50_z', 'psfMag_u', 'psfMag_r',\n",
       "       'psfMag_g', 'psfMag_i', 'psfMag_z', 'expAB_u', 'expAB_g',\n",
       "       'expAB_r', 'expAB_i', 'expAB_z', 'redshift', 'class'], dtype=object)"
      ]
     },
     "execution_count": 12,
     "metadata": {},
     "output_type": "execute_result"
    }
   ],
   "source": [
    "dataset.columns.values"
   ]
  },
  {
   "cell_type": "markdown",
   "metadata": {},
   "source": [
    "**Target Column**"
   ]
  },
  {
   "cell_type": "code",
   "execution_count": 13,
   "metadata": {
    "execution": {
     "iopub.execute_input": "2023-10-02T23:21:36.297839Z",
     "iopub.status.busy": "2023-10-02T23:21:36.296940Z",
     "iopub.status.idle": "2023-10-02T23:21:36.317290Z",
     "shell.execute_reply": "2023-10-02T23:21:36.316219Z",
     "shell.execute_reply.started": "2023-10-02T23:21:36.297798Z"
    }
   },
   "outputs": [
    {
     "data": {
      "text/plain": [
       "GALAXY    52343\n",
       "STAR      37232\n",
       "QSO       10425\n",
       "Name: class, dtype: int64"
      ]
     },
     "execution_count": 13,
     "metadata": {},
     "output_type": "execute_result"
    }
   ],
   "source": [
    "dataset['class'].value_counts()  # returns a Series containing counts of unique values."
   ]
  },
  {
   "cell_type": "code",
   "execution_count": 14,
   "metadata": {
    "execution": {
     "iopub.execute_input": "2023-10-02T23:21:36.318963Z",
     "iopub.status.busy": "2023-10-02T23:21:36.318649Z",
     "iopub.status.idle": "2023-10-02T23:21:36.618647Z",
     "shell.execute_reply": "2023-10-02T23:21:36.617518Z",
     "shell.execute_reply.started": "2023-10-02T23:21:36.318938Z"
    }
   },
   "outputs": [
    {
     "data": {
      "text/plain": [
       "Text(0.5, 1.0, 'Class Categories')"
      ]
     },
     "execution_count": 14,
     "metadata": {},
     "output_type": "execute_result"
    },
    {
     "data": {
      "image/png": "[encoded data removed]",
      "text/plain": [
       "<Figure size 640x480 with 1 Axes>"
      ]
     },
     "metadata": {},
     "output_type": "display_data"
    }
   ],
   "source": [
    "sns.countplot(x = dataset['class'])\n",
    "plt.title('Class Categories')"
   ]
  },
  {
   "cell_type": "markdown",
   "metadata": {},
   "source": [
    "Let's use **LabelEncoder** to encode target labels with value between 0 and n_classes-1   \n",
    "here the target (class) has three unique values a GALAXY, a STAR and a QSO"
   ]
  },
  {
   "cell_type": "code",
   "execution_count": 15,
   "metadata": {
    "execution": {
     "iopub.execute_input": "2023-10-02T23:21:36.622447Z",
     "iopub.status.busy": "2023-10-02T23:21:36.622117Z",
     "iopub.status.idle": "2023-10-02T23:21:36.649678Z",
     "shell.execute_reply": "2023-10-02T23:21:36.648727Z",
     "shell.execute_reply.started": "2023-10-02T23:21:36.622420Z"
    }
   },
   "outputs": [],
   "source": [
    "encoder = LabelEncoder()\n",
    "dataset['class'] = encoder.fit_transform(dataset['class'])"
   ]
  },
  {
   "cell_type": "code",
   "execution_count": 16,
   "metadata": {
    "execution": {
     "iopub.execute_input": "2023-10-02T23:21:36.651904Z",
     "iopub.status.busy": "2023-10-02T23:21:36.650703Z",
     "iopub.status.idle": "2023-10-02T23:21:36.668238Z",
     "shell.execute_reply": "2023-10-02T23:21:36.666815Z",
     "shell.execute_reply.started": "2023-10-02T23:21:36.651872Z"
    }
   },
   "outputs": [
    {
     "data": {
      "text/plain": [
       "0    52343\n",
       "2    37232\n",
       "1    10425\n",
       "Name: class, dtype: int64"
      ]
     },
     "execution_count": 16,
     "metadata": {},
     "output_type": "execute_result"
    }
   ],
   "source": [
    "dataset['class'].value_counts()"
   ]
  },
  {
   "cell_type": "markdown",
   "metadata": {},
   "source": [
    "A **correlation matrix** is a table containing correlation coefficients between variables, each cell in the table represents the correlation between two variables.\n",
    "\n",
    "we will use a heatmap from seaborn to visualize the correlation between variables"
   ]
  },
  {
   "cell_type": "code",
   "execution_count": 17,
   "metadata": {
    "execution": {
     "iopub.execute_input": "2023-10-02T23:21:36.670803Z",
     "iopub.status.busy": "2023-10-02T23:21:36.669782Z",
     "iopub.status.idle": "2023-10-02T23:21:38.195597Z",
     "shell.execute_reply": "2023-10-02T23:21:38.194500Z",
     "shell.execute_reply.started": "2023-10-02T23:21:36.670736Z"
    }
   },
   "outputs": [
    {
     "data": {
      "text/plain": [
       "Text(0.5, 1.0, 'Correlation Matrix')"
      ]
     },
     "execution_count": 17,
     "metadata": {},
     "output_type": "execute_result"
    },
    {
     "data": {
      "image/png": "[encoded data removed]",
      "text/plain": [
       "<Figure size 1200x800 with 2 Axes>"
      ]
     },
     "metadata": {},
     "output_type": "display_data"
    }
   ],
   "source": [
    "corr_matrix = dataset.corr()\n",
    "plt.figure(figsize=(12, 8))\n",
    "sns.heatmap(corr_matrix, center=0, square=True, vmin=-1, vmax=1)\n",
    "plt.title('Correlation Matrix')"
   ]
  },
  {
   "cell_type": "markdown",
   "metadata": {},
   "source": [
    "# Data preprocessing"
   ]
  },
  {
   "cell_type": "code",
   "execution_count": 18,
   "metadata": {
    "execution": {
     "iopub.execute_input": "2023-10-02T23:21:38.197476Z",
     "iopub.status.busy": "2023-10-02T23:21:38.197085Z",
     "iopub.status.idle": "2023-10-02T23:21:38.211539Z",
     "shell.execute_reply": "2023-10-02T23:21:38.210331Z",
     "shell.execute_reply.started": "2023-10-02T23:21:38.197439Z"
    }
   },
   "outputs": [],
   "source": [
    "X = dataset.drop('class', axis=1)\n",
    "y = dataset['class']"
   ]
  },
  {
   "cell_type": "code",
   "execution_count": 19,
   "metadata": {
    "execution": {
     "iopub.execute_input": "2023-10-02T23:21:38.213692Z",
     "iopub.status.busy": "2023-10-02T23:21:38.212947Z",
     "iopub.status.idle": "2023-10-02T23:21:38.280924Z",
     "shell.execute_reply": "2023-10-02T23:21:38.279830Z",
     "shell.execute_reply.started": "2023-10-02T23:21:38.213647Z"
    }
   },
   "outputs": [],
   "source": [
    "scaler = MinMaxScaler(copy=True, feature_range=(0, 1))\n",
    "X = scaler.fit_transform(X)"
   ]
  },
  {
   "cell_type": "code",
   "execution_count": 20,
   "metadata": {
    "execution": {
     "iopub.execute_input": "2023-10-02T23:21:38.282439Z",
     "iopub.status.busy": "2023-10-02T23:21:38.282165Z",
     "iopub.status.idle": "2023-10-02T23:21:38.338410Z",
     "shell.execute_reply": "2023-10-02T23:21:38.337345Z",
     "shell.execute_reply.started": "2023-10-02T23:21:38.282416Z"
    }
   },
   "outputs": [],
   "source": [
    "X_train, X_test, y_train, y_test = train_test_split(X,\n",
    "                                                    y, \n",
    "                                                    test_size=0.3, \n",
    "                                                    shuffle=True, \n",
    "                                                    random_state=44)"
   ]
  },
  {
   "cell_type": "code",
   "execution_count": 21,
   "metadata": {
    "execution": {
     "iopub.execute_input": "2023-10-02T23:21:38.340086Z",
     "iopub.status.busy": "2023-10-02T23:21:38.339760Z",
     "iopub.status.idle": "2023-10-02T23:21:38.345921Z",
     "shell.execute_reply": "2023-10-02T23:21:38.345196Z",
     "shell.execute_reply.started": "2023-10-02T23:21:38.340059Z"
    }
   },
   "outputs": [
    {
     "data": {
      "text/plain": [
       "((70000, 42), (30000, 42), (70000,), (30000,))"
      ]
     },
     "execution_count": 21,
     "metadata": {},
     "output_type": "execute_result"
    }
   ],
   "source": [
    "X_train.shape, X_test.shape, y_train.shape, y_test.shape"
   ]
  },
  {
   "cell_type": "markdown",
   "metadata": {},
   "source": [
    "# The Model"
   ]
  },
  {
   "cell_type": "markdown",
   "metadata": {},
   "source": [
    "**CatBoost** or Categorical Boosting is a high-performance open source library for gradient boosting on decision trees.                                                          It is designed for use on problems like regression and classification having a very large number of independent features. "
   ]
  },
  {
   "cell_type": "code",
   "execution_count": 22,
   "metadata": {
    "execution": {
     "iopub.execute_input": "2023-10-02T23:21:38.347815Z",
     "iopub.status.busy": "2023-10-02T23:21:38.347106Z",
     "iopub.status.idle": "2023-10-02T23:21:44.286218Z",
     "shell.execute_reply": "2023-10-02T23:21:44.285345Z",
     "shell.execute_reply.started": "2023-10-02T23:21:38.347782Z"
    }
   },
   "outputs": [
    {
     "name": "stdout",
     "output_type": "stream",
     "text": [
      "0:\tlearn: 0.9186187\ttotal: 234ms\tremaining: 34.8s\n",
      "1:\tlearn: 0.7850771\ttotal: 290ms\tremaining: 21.4s\n",
      "2:\tlearn: 0.6783593\ttotal: 334ms\tremaining: 16.4s\n",
      "3:\tlearn: 0.5925153\ttotal: 384ms\tremaining: 14s\n",
      "4:\tlearn: 0.5210024\ttotal: 439ms\tremaining: 12.7s\n",
      "5:\tlearn: 0.4614090\ttotal: 494ms\tremaining: 11.8s\n",
      "6:\tlearn: 0.4107912\ttotal: 557ms\tremaining: 11.4s\n",
      "7:\tlearn: 0.3682082\ttotal: 614ms\tremaining: 10.9s\n",
      "8:\tlearn: 0.3306106\ttotal: 681ms\tremaining: 10.7s\n",
      "9:\tlearn: 0.2979483\ttotal: 740ms\tremaining: 10.4s\n",
      "10:\tlearn: 0.2694630\ttotal: 784ms\tremaining: 9.91s\n",
      "11:\tlearn: 0.2445510\ttotal: 837ms\tremaining: 9.62s\n",
      "12:\tlearn: 0.2226796\ttotal: 886ms\tremaining: 9.34s\n",
      "13:\tlearn: 0.2031222\ttotal: 949ms\tremaining: 9.22s\n",
      "14:\tlearn: 0.1860633\ttotal: 1.01s\tremaining: 9.06s\n",
      "15:\tlearn: 0.1709038\ttotal: 1.05s\tremaining: 8.82s\n",
      "16:\tlearn: 0.1573256\ttotal: 1.11s\tremaining: 8.69s\n",
      "17:\tlearn: 0.1452809\ttotal: 1.17s\tremaining: 8.58s\n",
      "18:\tlearn: 0.1344090\ttotal: 1.25s\tremaining: 8.58s\n",
      "19:\tlearn: 0.1251535\ttotal: 1.32s\tremaining: 8.57s\n",
      "20:\tlearn: 0.1166049\ttotal: 1.38s\tremaining: 8.47s\n",
      "21:\tlearn: 0.1091194\ttotal: 1.44s\tremaining: 8.37s\n",
      "22:\tlearn: 0.1021899\ttotal: 1.49s\tremaining: 8.25s\n",
      "23:\tlearn: 0.0960155\ttotal: 1.56s\tremaining: 8.17s\n",
      "24:\tlearn: 0.0907542\ttotal: 1.62s\tremaining: 8.09s\n",
      "25:\tlearn: 0.0858544\ttotal: 1.75s\tremaining: 8.33s\n",
      "26:\tlearn: 0.0813907\ttotal: 1.8s\tremaining: 8.22s\n",
      "27:\tlearn: 0.0754128\ttotal: 1.86s\tremaining: 8.11s\n",
      "28:\tlearn: 0.0716886\ttotal: 1.92s\tremaining: 8.02s\n",
      "29:\tlearn: 0.0683406\ttotal: 1.99s\tremaining: 7.95s\n",
      "30:\tlearn: 0.0654690\ttotal: 2.05s\tremaining: 7.86s\n",
      "31:\tlearn: 0.0626995\ttotal: 2.11s\tremaining: 7.79s\n",
      "32:\tlearn: 0.0605613\ttotal: 2.16s\tremaining: 7.67s\n",
      "33:\tlearn: 0.0583809\ttotal: 2.21s\tremaining: 7.56s\n",
      "34:\tlearn: 0.0563838\ttotal: 2.27s\tremaining: 7.46s\n",
      "35:\tlearn: 0.0546400\ttotal: 2.33s\tremaining: 7.38s\n",
      "36:\tlearn: 0.0530848\ttotal: 2.39s\tremaining: 7.29s\n",
      "37:\tlearn: 0.0516894\ttotal: 2.45s\tremaining: 7.21s\n",
      "38:\tlearn: 0.0498499\ttotal: 2.5s\tremaining: 7.11s\n",
      "39:\tlearn: 0.0485914\ttotal: 2.56s\tremaining: 7.04s\n",
      "40:\tlearn: 0.0474821\ttotal: 2.61s\tremaining: 6.93s\n",
      "41:\tlearn: 0.0457301\ttotal: 2.66s\tremaining: 6.84s\n",
      "42:\tlearn: 0.0447721\ttotal: 2.72s\tremaining: 6.76s\n",
      "43:\tlearn: 0.0439630\ttotal: 2.79s\tremaining: 6.71s\n",
      "44:\tlearn: 0.0431630\ttotal: 2.85s\tremaining: 6.65s\n",
      "45:\tlearn: 0.0424454\ttotal: 2.91s\tremaining: 6.58s\n",
      "46:\tlearn: 0.0412149\ttotal: 2.97s\tremaining: 6.5s\n",
      "47:\tlearn: 0.0406252\ttotal: 3.02s\tremaining: 6.42s\n",
      "48:\tlearn: 0.0401736\ttotal: 3.07s\tremaining: 6.32s\n",
      "49:\tlearn: 0.0398681\ttotal: 3.12s\tremaining: 6.23s\n",
      "50:\tlearn: 0.0393472\ttotal: 3.17s\tremaining: 6.15s\n",
      "51:\tlearn: 0.0390191\ttotal: 3.22s\tremaining: 6.07s\n",
      "52:\tlearn: 0.0384698\ttotal: 3.28s\tremaining: 6.01s\n",
      "53:\tlearn: 0.0380926\ttotal: 3.34s\tremaining: 5.94s\n",
      "54:\tlearn: 0.0376482\ttotal: 3.41s\tremaining: 5.89s\n",
      "55:\tlearn: 0.0373465\ttotal: 3.47s\tremaining: 5.82s\n",
      "56:\tlearn: 0.0370939\ttotal: 3.52s\tremaining: 5.75s\n",
      "57:\tlearn: 0.0368475\ttotal: 3.58s\tremaining: 5.67s\n",
      "58:\tlearn: 0.0363423\ttotal: 3.63s\tremaining: 5.59s\n",
      "59:\tlearn: 0.0360960\ttotal: 3.69s\tremaining: 5.53s\n",
      "60:\tlearn: 0.0359227\ttotal: 3.74s\tremaining: 5.45s\n",
      "61:\tlearn: 0.0355174\ttotal: 3.8s\tremaining: 5.39s\n",
      "62:\tlearn: 0.0353126\ttotal: 3.84s\tremaining: 5.31s\n",
      "63:\tlearn: 0.0349472\ttotal: 3.89s\tremaining: 5.23s\n",
      "64:\tlearn: 0.0347018\ttotal: 3.96s\tremaining: 5.18s\n",
      "65:\tlearn: 0.0343438\ttotal: 4.01s\tremaining: 5.11s\n",
      "66:\tlearn: 0.0341956\ttotal: 4.05s\tremaining: 5.02s\n",
      "67:\tlearn: 0.0340191\ttotal: 4.11s\tremaining: 4.95s\n",
      "68:\tlearn: 0.0338856\ttotal: 4.15s\tremaining: 4.87s\n",
      "69:\tlearn: 0.0337395\ttotal: 4.21s\tremaining: 4.81s\n",
      "70:\tlearn: 0.0334944\ttotal: 4.25s\tremaining: 4.73s\n",
      "71:\tlearn: 0.0333764\ttotal: 4.29s\tremaining: 4.65s\n",
      "72:\tlearn: 0.0333609\ttotal: 4.33s\tremaining: 4.57s\n",
      "73:\tlearn: 0.0331567\ttotal: 4.38s\tremaining: 4.5s\n",
      "74:\tlearn: 0.0330240\ttotal: 4.43s\tremaining: 4.43s\n",
      "75:\tlearn: 0.0329199\ttotal: 4.48s\tremaining: 4.36s\n",
      "76:\tlearn: 0.0326945\ttotal: 4.53s\tremaining: 4.3s\n",
      "77:\tlearn: 0.0326654\ttotal: 4.58s\tremaining: 4.23s\n",
      "78:\tlearn: 0.0324719\ttotal: 4.63s\tremaining: 4.16s\n",
      "79:\tlearn: 0.0324031\ttotal: 4.68s\tremaining: 4.09s\n",
      "80:\tlearn: 0.0323290\ttotal: 4.73s\tremaining: 4.03s\n",
      "81:\tlearn: 0.0322022\ttotal: 4.78s\tremaining: 3.96s\n",
      "82:\tlearn: 0.0321099\ttotal: 4.82s\tremaining: 3.89s\n",
      "83:\tlearn: 0.0320209\ttotal: 4.86s\tremaining: 3.82s\n",
      "84:\tlearn: 0.0319873\ttotal: 4.91s\tremaining: 3.76s\n",
      "85:\tlearn: 0.0318970\ttotal: 4.97s\tremaining: 3.7s\n",
      "86:\tlearn: 0.0318601\ttotal: 5.01s\tremaining: 3.63s\n",
      "87:\tlearn: 0.0317889\ttotal: 5.06s\tremaining: 3.56s\n",
      "88:\tlearn: 0.0317217\ttotal: 5.11s\tremaining: 3.5s\n",
      "89:\tlearn: 0.0316685\ttotal: 5.15s\tremaining: 3.44s\n",
      "90:\tlearn: 0.0315367\ttotal: 5.21s\tremaining: 3.38s\n",
      "91:\tlearn: 0.0314429\ttotal: 5.26s\tremaining: 3.32s\n",
      "92:\tlearn: 0.0313998\ttotal: 5.32s\tremaining: 3.26s\n",
      "93:\tlearn: 0.0312908\ttotal: 5.38s\tremaining: 3.21s\n",
      "94:\tlearn: 0.0311829\ttotal: 5.44s\tremaining: 3.15s\n",
      "95:\tlearn: 0.0311020\ttotal: 5.49s\tremaining: 3.09s\n",
      "96:\tlearn: 0.0310299\ttotal: 5.54s\tremaining: 3.02s\n",
      "97:\tlearn: 0.0309680\ttotal: 5.58s\tremaining: 2.96s\n",
      "98:\tlearn: 0.0308808\ttotal: 5.63s\tremaining: 2.9s\n",
      "99:\tlearn: 0.0308649\ttotal: 5.68s\tremaining: 2.84s\n",
      "100:\tlearn: 0.0308089\ttotal: 5.72s\tremaining: 2.78s\n",
      "101:\tlearn: 0.0307768\ttotal: 5.76s\tremaining: 2.71s\n",
      "102:\tlearn: 0.0306717\ttotal: 5.83s\tremaining: 2.66s\n",
      "103:\tlearn: 0.0306292\ttotal: 5.88s\tremaining: 2.6s\n",
      "104:\tlearn: 0.0306097\ttotal: 5.93s\tremaining: 2.54s\n",
      "105:\tlearn: 0.0305790\ttotal: 6s\tremaining: 2.49s\n",
      "106:\tlearn: 0.0305386\ttotal: 6.04s\tremaining: 2.43s\n",
      "107:\tlearn: 0.0304691\ttotal: 6.11s\tremaining: 2.37s\n",
      "108:\tlearn: 0.0304462\ttotal: 6.16s\tremaining: 2.32s\n",
      "109:\tlearn: 0.0303721\ttotal: 6.21s\tremaining: 2.26s\n",
      "110:\tlearn: 0.0303450\ttotal: 6.26s\tremaining: 2.2s\n",
      "111:\tlearn: 0.0301537\ttotal: 6.31s\tremaining: 2.14s\n",
      "112:\tlearn: 0.0300946\ttotal: 6.36s\tremaining: 2.08s\n",
      "113:\tlearn: 0.0299687\ttotal: 6.41s\tremaining: 2.02s\n",
      "114:\tlearn: 0.0299360\ttotal: 6.46s\tremaining: 1.97s\n",
      "115:\tlearn: 0.0298592\ttotal: 6.51s\tremaining: 1.91s\n",
      "116:\tlearn: 0.0298342\ttotal: 6.55s\tremaining: 1.85s\n",
      "117:\tlearn: 0.0297405\ttotal: 6.6s\tremaining: 1.79s\n",
      "118:\tlearn: 0.0297105\ttotal: 6.65s\tremaining: 1.73s\n",
      "119:\tlearn: 0.0296863\ttotal: 6.7s\tremaining: 1.68s\n",
      "120:\tlearn: 0.0296717\ttotal: 6.75s\tremaining: 1.62s\n",
      "121:\tlearn: 0.0295710\ttotal: 6.8s\tremaining: 1.56s\n",
      "122:\tlearn: 0.0295458\ttotal: 6.85s\tremaining: 1.5s\n",
      "123:\tlearn: 0.0295290\ttotal: 6.9s\tremaining: 1.45s\n",
      "124:\tlearn: 0.0294824\ttotal: 6.96s\tremaining: 1.39s\n",
      "125:\tlearn: 0.0294314\ttotal: 7.01s\tremaining: 1.33s\n",
      "126:\tlearn: 0.0293974\ttotal: 7.06s\tremaining: 1.28s\n",
      "127:\tlearn: 0.0293553\ttotal: 7.12s\tremaining: 1.22s\n",
      "128:\tlearn: 0.0292660\ttotal: 7.18s\tremaining: 1.17s\n",
      "129:\tlearn: 0.0292577\ttotal: 7.22s\tremaining: 1.11s\n",
      "130:\tlearn: 0.0292135\ttotal: 7.26s\tremaining: 1.05s\n",
      "131:\tlearn: 0.0291762\ttotal: 7.31s\tremaining: 997ms\n",
      "132:\tlearn: 0.0291526\ttotal: 7.37s\tremaining: 942ms\n",
      "133:\tlearn: 0.0291397\ttotal: 7.42s\tremaining: 886ms\n",
      "134:\tlearn: 0.0290889\ttotal: 7.48s\tremaining: 831ms\n",
      "135:\tlearn: 0.0289947\ttotal: 7.53s\tremaining: 776ms\n",
      "136:\tlearn: 0.0289803\ttotal: 7.58s\tremaining: 719ms\n",
      "137:\tlearn: 0.0287923\ttotal: 7.63s\tremaining: 664ms\n",
      "138:\tlearn: 0.0287771\ttotal: 7.68s\tremaining: 608ms\n",
      "139:\tlearn: 0.0287488\ttotal: 7.74s\tremaining: 553ms\n",
      "140:\tlearn: 0.0286907\ttotal: 7.79s\tremaining: 497ms\n",
      "141:\tlearn: 0.0286317\ttotal: 7.85s\tremaining: 442ms\n",
      "142:\tlearn: 0.0286125\ttotal: 7.9s\tremaining: 387ms\n",
      "143:\tlearn: 0.0286010\ttotal: 7.95s\tremaining: 331ms\n",
      "144:\tlearn: 0.0285786\ttotal: 8.01s\tremaining: 276ms\n",
      "145:\tlearn: 0.0285137\ttotal: 8.08s\tremaining: 221ms\n",
      "146:\tlearn: 0.0284944\ttotal: 8.13s\tremaining: 166ms\n",
      "147:\tlearn: 0.0284831\ttotal: 8.18s\tremaining: 111ms\n",
      "148:\tlearn: 0.0284718\ttotal: 8.22s\tremaining: 55.2ms\n",
      "149:\tlearn: 0.0284534\ttotal: 8.27s\tremaining: 0us\n"
     ]
    },
    {
     "data": {
      "text/plain": [
       "<catboost.core.CatBoostClassifier at 0x1d547a67730>"
      ]
     },
     "execution_count": 22,
     "metadata": {},
     "output_type": "execute_result"
    }
   ],
   "source": [
    "model = CatBoostClassifier(iterations=150,\n",
    "                           learning_rate=0.1,\n",
    "                           depth=5)\n",
    "model.fit(X_train, y_train)"
   ]
  },
  {
   "cell_type": "code",
   "execution_count": 23,
   "metadata": {
    "execution": {
     "iopub.execute_input": "2023-10-02T23:21:44.288194Z",
     "iopub.status.busy": "2023-10-02T23:21:44.287373Z",
     "iopub.status.idle": "2023-10-02T23:21:44.669815Z",
     "shell.execute_reply": "2023-10-02T23:21:44.668884Z",
     "shell.execute_reply.started": "2023-10-02T23:21:44.288164Z"
    }
   },
   "outputs": [],
   "source": [
    "y_pred = model.predict(X_test)"
   ]
  },
  {
   "cell_type": "code",
   "execution_count": 24,
   "metadata": {
    "execution": {
     "iopub.execute_input": "2023-10-02T23:21:44.671491Z",
     "iopub.status.busy": "2023-10-02T23:21:44.671210Z",
     "iopub.status.idle": "2023-10-02T23:21:44.677292Z",
     "shell.execute_reply": "2023-10-02T23:21:44.676352Z",
     "shell.execute_reply.started": "2023-10-02T23:21:44.671467Z"
    }
   },
   "outputs": [
    {
     "data": {
      "text/plain": [
       "(array([[0],\n",
       "        [1],\n",
       "        [2],\n",
       "        [0],\n",
       "        [2],\n",
       "        [0],\n",
       "        [0],\n",
       "        [0],\n",
       "        [2],\n",
       "        [2]], dtype=int64),\n",
       " 39574    0\n",
       " 537      1\n",
       " 99246    2\n",
       " 39498    0\n",
       " 24797    2\n",
       " 93811    0\n",
       " 3050     0\n",
       " 55198    0\n",
       " 83359    2\n",
       " 9361     2\n",
       " Name: class, dtype: int32)"
      ]
     },
     "execution_count": 24,
     "metadata": {},
     "output_type": "execute_result"
    }
   ],
   "source": [
    "y_pred[:10], y_test[:10]"
   ]
  },
  {
   "cell_type": "markdown",
   "metadata": {},
   "source": [
    "Calculating Accuracy Score : **((TP + TN) / float(TP + TN + FP + FN))**"
   ]
  },
  {
   "cell_type": "code",
   "execution_count": 25,
   "metadata": {
    "execution": {
     "iopub.execute_input": "2023-10-02T23:21:44.679105Z",
     "iopub.status.busy": "2023-10-02T23:21:44.678496Z",
     "iopub.status.idle": "2023-10-02T23:21:44.693952Z",
     "shell.execute_reply": "2023-10-02T23:21:44.692591Z",
     "shell.execute_reply.started": "2023-10-02T23:21:44.679078Z"
    }
   },
   "outputs": [
    {
     "name": "stdout",
     "output_type": "stream",
     "text": [
      "Accuracy score for CatBoostClassifier:  0.9909\n"
     ]
    }
   ],
   "source": [
    "Acc = accuracy_score(y_test, y_pred)\n",
    "print(f'Accuracy score for CatBoostClassifier: {Acc: .4f}')"
   ]
  },
  {
   "cell_type": "code",
   "execution_count": 26,
   "metadata": {
    "execution": {
     "iopub.execute_input": "2023-10-02T23:21:44.696304Z",
     "iopub.status.busy": "2023-10-02T23:21:44.695887Z",
     "iopub.status.idle": "2023-10-02T23:21:44.752839Z",
     "shell.execute_reply": "2023-10-02T23:21:44.751607Z",
     "shell.execute_reply.started": "2023-10-02T23:21:44.696266Z"
    }
   },
   "outputs": [
    {
     "name": "stdout",
     "output_type": "stream",
     "text": [
      "classification report for CatBoostClassifier model: \n",
      "               precision    recall  f1-score   support\n",
      "\n",
      "           0       0.99      0.99      0.99     15761\n",
      "           1       0.96      0.98      0.97      3028\n",
      "           2       1.00      0.99      1.00     11211\n",
      "\n",
      "    accuracy                           0.99     30000\n",
      "   macro avg       0.98      0.99      0.98     30000\n",
      "weighted avg       0.99      0.99      0.99     30000\n",
      "\n"
     ]
    }
   ],
   "source": [
    "print('classification report for CatBoostClassifier model: \\n', classification_report(y_pred, y_test))"
   ]
  },
  {
   "cell_type": "markdown",
   "metadata": {},
   "source": [
    "**XGBoost** is an optimized distributed gradient boosting library designed for efficient and scalable training of machine learning models. It is an ensemble learning method that combines the predictions of multiple weak models to produce a stronger prediction. XGBoost stands for “Extreme Gradient Boosting” and it has become one of the most popular and widely used machine learning algorithms"
   ]
  },
  {
   "cell_type": "code",
   "execution_count": 27,
   "metadata": {
    "execution": {
     "iopub.execute_input": "2023-10-02T23:21:44.754831Z",
     "iopub.status.busy": "2023-10-02T23:21:44.754476Z",
     "iopub.status.idle": "2023-10-02T23:22:05.982020Z",
     "shell.execute_reply": "2023-10-02T23:22:05.981122Z",
     "shell.execute_reply.started": "2023-10-02T23:21:44.754804Z"
    }
   },
   "outputs": [
    {
     "data": {
      "text/html": [
       "<style>#sk-container-id-1 {color: black;background-color: white;}#sk-container-id-1 pre{padding: 0;}#sk-container-id-1 div.sk-toggleable {background-color: white;}#sk-container-id-1 label.sk-toggleable__label {cursor: pointer;display: block;width: 100%;margin-bottom: 0;padding: 0.3em;box-sizing: border-box;text-align: center;}#sk-container-id-1 label.sk-toggleable__label-arrow:before {content: \"▸\";float: left;margin-right: 0.25em;color: #696969;}#sk-container-id-1 label.sk-toggleable__label-arrow:hover:before {color: black;}#sk-container-id-1 div.sk-estimator:hover label.sk-toggleable__label-arrow:before {color: black;}#sk-container-id-1 div.sk-toggleable__content {max-height: 0;max-width: 0;overflow: hidden;text-align: left;background-color: #f0f8ff;}#sk-container-id-1 div.sk-toggleable__content pre {margin: 0.2em;color: black;border-radius: 0.25em;background-color: #f0f8ff;}#sk-container-id-1 input.sk-toggleable__control:checked~div.sk-toggleable__content {max-height: 200px;max-width: 100%;overflow: auto;}#sk-container-id-1 input.sk-toggleable__control:checked~label.sk-toggleable__label-arrow:before {content: \"▾\";}#sk-container-id-1 div.sk-estimator input.sk-toggleable__control:checked~label.sk-toggleable__label {background-color: #d4ebff;}#sk-container-id-1 div.sk-label input.sk-toggleable__control:checked~label.sk-toggleable__label {background-color: #d4ebff;}#sk-container-id-1 input.sk-hidden--visually {border: 0;clip: rect(1px 1px 1px 1px);clip: rect(1px, 1px, 1px, 1px);height: 1px;margin: -1px;overflow: hidden;padding: 0;position: absolute;width: 1px;}#sk-container-id-1 div.sk-estimator {font-family: monospace;background-color: #f0f8ff;border: 1px dotted black;border-radius: 0.25em;box-sizing: border-box;margin-bottom: 0.5em;}#sk-container-id-1 div.sk-estimator:hover {background-color: #d4ebff;}#sk-container-id-1 div.sk-parallel-item::after {content: \"\";width: 100%;border-bottom: 1px solid gray;flex-grow: 1;}#sk-container-id-1 div.sk-label:hover label.sk-toggleable__label {background-color: #d4ebff;}#sk-container-id-1 div.sk-serial::before {content: \"\";position: absolute;border-left: 1px solid gray;box-sizing: border-box;top: 0;bottom: 0;left: 50%;z-index: 0;}#sk-container-id-1 div.sk-serial {display: flex;flex-direction: column;align-items: center;background-color: white;padding-right: 0.2em;padding-left: 0.2em;position: relative;}#sk-container-id-1 div.sk-item {position: relative;z-index: 1;}#sk-container-id-1 div.sk-parallel {display: flex;align-items: stretch;justify-content: center;background-color: white;position: relative;}#sk-container-id-1 div.sk-item::before, #sk-container-id-1 div.sk-parallel-item::before {content: \"\";position: absolute;border-left: 1px solid gray;box-sizing: border-box;top: 0;bottom: 0;left: 50%;z-index: -1;}#sk-container-id-1 div.sk-parallel-item {display: flex;flex-direction: column;z-index: 1;position: relative;background-color: white;}#sk-container-id-1 div.sk-parallel-item:first-child::after {align-self: flex-end;width: 50%;}#sk-container-id-1 div.sk-parallel-item:last-child::after {align-self: flex-start;width: 50%;}#sk-container-id-1 div.sk-parallel-item:only-child::after {width: 0;}#sk-container-id-1 div.sk-dashed-wrapped {border: 1px dashed gray;margin: 0 0.4em 0.5em 0.4em;box-sizing: border-box;padding-bottom: 0.4em;background-color: white;}#sk-container-id-1 div.sk-label label {font-family: monospace;font-weight: bold;display: inline-block;line-height: 1.2em;}#sk-container-id-1 div.sk-label-container {text-align: center;}#sk-container-id-1 div.sk-container {/* jupyter's `normalize.less` sets `[hidden] { display: none; }` but bootstrap.min.css set `[hidden] { display: none !important; }` so we also need the `!important` here to be able to override the default hidden behavior on the sphinx rendered scikit-learn.org. See: https://github.com/scikit-learn/scikit-learn/issues/21755 */display: inline-block !important;position: relative;}#sk-container-id-1 div.sk-text-repr-fallback {display: none;}</style><div id=\"sk-container-id-1\" class=\"sk-top-container\"><div class=\"sk-text-repr-fallback\"><pre>XGBClassifier(base_score=None, booster=None, callbacks=None,\n",
       "              colsample_bylevel=None, colsample_bynode=None,\n",
       "              colsample_bytree=None, device=None, early_stopping_rounds=None,\n",
       "              enable_categorical=False, eval_metric=None, feature_types=None,\n",
       "              gamma=None, grow_policy=None, importance_type=None,\n",
       "              interaction_constraints=None, learning_rate=0.1, max_bin=None,\n",
       "              max_cat_threshold=None, max_cat_to_onehot=None,\n",
       "              max_delta_step=None, max_depth=4, max_leaves=None,\n",
       "              min_child_weight=None, missing=nan, monotone_constraints=None,\n",
       "              multi_strategy=None, n_estimators=50, n_jobs=None,\n",
       "              num_parallel_tree=None, objective=&#x27;multi:softprob&#x27;, ...)</pre><b>In a Jupyter environment, please rerun this cell to show the HTML representation or trust the notebook. <br />On GitHub, the HTML representation is unable to render, please try loading this page with nbviewer.org.</b></div><div class=\"sk-container\" hidden><div class=\"sk-item\"><div class=\"sk-estimator sk-toggleable\"><input class=\"sk-toggleable__control sk-hidden--visually\" id=\"sk-estimator-id-1\" type=\"checkbox\" checked><label for=\"sk-estimator-id-1\" class=\"sk-toggleable__label sk-toggleable__label-arrow\">XGBClassifier</label><div class=\"sk-toggleable__content\"><pre>XGBClassifier(base_score=None, booster=None, callbacks=None,\n",
       "              colsample_bylevel=None, colsample_bynode=None,\n",
       "              colsample_bytree=None, device=None, early_stopping_rounds=None,\n",
       "              enable_categorical=False, eval_metric=None, feature_types=None,\n",
       "              gamma=None, grow_policy=None, importance_type=None,\n",
       "              interaction_constraints=None, learning_rate=0.1, max_bin=None,\n",
       "              max_cat_threshold=None, max_cat_to_onehot=None,\n",
       "              max_delta_step=None, max_depth=4, max_leaves=None,\n",
       "              min_child_weight=None, missing=nan, monotone_constraints=None,\n",
       "              multi_strategy=None, n_estimators=50, n_jobs=None,\n",
       "              num_parallel_tree=None, objective=&#x27;multi:softprob&#x27;, ...)</pre></div></div></div></div></div>"
      ],
      "text/plain": [
       "XGBClassifier(base_score=None, booster=None, callbacks=None,\n",
       "              colsample_bylevel=None, colsample_bynode=None,\n",
       "              colsample_bytree=None, device=None, early_stopping_rounds=None,\n",
       "              enable_categorical=False, eval_metric=None, feature_types=None,\n",
       "              gamma=None, grow_policy=None, importance_type=None,\n",
       "              interaction_constraints=None, learning_rate=0.1, max_bin=None,\n",
       "              max_cat_threshold=None, max_cat_to_onehot=None,\n",
       "              max_delta_step=None, max_depth=4, max_leaves=None,\n",
       "              min_child_weight=None, missing=nan, monotone_constraints=None,\n",
       "              multi_strategy=None, n_estimators=50, n_jobs=None,\n",
       "              num_parallel_tree=None, objective='multi:softprob', ...)"
      ]
     },
     "execution_count": 27,
     "metadata": {},
     "output_type": "execute_result"
    }
   ],
   "source": [
    "xgbModel = XGBClassifier(n_estimators=50,          # Number of trees we want to build\n",
    "                         max_depth=4,              # How deeply each tree is allowed to grow\n",
    "                         learning_rate=0.1,        # Step size \n",
    "                         objective='reg:logistic') # It determines the loss function\n",
    "xgbModel.fit(X_train, y_train)"
   ]
  },
  {
   "cell_type": "code",
   "execution_count": 28,
   "metadata": {
    "execution": {
     "iopub.execute_input": "2023-10-02T23:22:05.987777Z",
     "iopub.status.busy": "2023-10-02T23:22:05.985493Z",
     "iopub.status.idle": "2023-10-02T23:22:06.021714Z",
     "shell.execute_reply": "2023-10-02T23:22:06.020899Z",
     "shell.execute_reply.started": "2023-10-02T23:22:05.987722Z"
    }
   },
   "outputs": [],
   "source": [
    "preds = xgbModel.predict(X_test)"
   ]
  },
  {
   "cell_type": "code",
   "execution_count": 29,
   "metadata": {
    "execution": {
     "iopub.execute_input": "2023-10-02T23:22:06.026296Z",
     "iopub.status.busy": "2023-10-02T23:22:06.025503Z",
     "iopub.status.idle": "2023-10-02T23:22:06.039018Z",
     "shell.execute_reply": "2023-10-02T23:22:06.037869Z",
     "shell.execute_reply.started": "2023-10-02T23:22:06.026260Z"
    }
   },
   "outputs": [
    {
     "data": {
      "text/plain": [
       "(array([0, 1, 2, 0, 2, 0, 0, 0, 2, 2], dtype=int64),\n",
       " 39574    0\n",
       " 537      1\n",
       " 99246    2\n",
       " 39498    0\n",
       " 24797    2\n",
       " 93811    0\n",
       " 3050     0\n",
       " 55198    0\n",
       " 83359    2\n",
       " 9361     2\n",
       " Name: class, dtype: int32)"
      ]
     },
     "execution_count": 29,
     "metadata": {},
     "output_type": "execute_result"
    }
   ],
   "source": [
    "preds[:10], y_test[:10]"
   ]
  },
  {
   "cell_type": "code",
   "execution_count": 30,
   "metadata": {
    "execution": {
     "iopub.execute_input": "2023-10-02T23:22:06.040629Z",
     "iopub.status.busy": "2023-10-02T23:22:06.040259Z",
     "iopub.status.idle": "2023-10-02T23:22:06.054311Z",
     "shell.execute_reply": "2023-10-02T23:22:06.053572Z",
     "shell.execute_reply.started": "2023-10-02T23:22:06.040603Z"
    }
   },
   "outputs": [
    {
     "name": "stdout",
     "output_type": "stream",
     "text": [
      "Accuracy score for XGBClassifier:  0.9908\n"
     ]
    }
   ],
   "source": [
    "Acc = accuracy_score(y_test, preds)\n",
    "print(f'Accuracy score for XGBClassifier: {Acc: .4f}')"
   ]
  },
  {
   "cell_type": "code",
   "execution_count": 31,
   "metadata": {
    "execution": {
     "iopub.execute_input": "2023-10-02T23:22:06.058113Z",
     "iopub.status.busy": "2023-10-02T23:22:06.057774Z",
     "iopub.status.idle": "2023-10-02T23:22:06.116509Z",
     "shell.execute_reply": "2023-10-02T23:22:06.115723Z",
     "shell.execute_reply.started": "2023-10-02T23:22:06.058085Z"
    }
   },
   "outputs": [
    {
     "name": "stdout",
     "output_type": "stream",
     "text": [
      "classification report for XGBClassifier model: \n",
      "               precision    recall  f1-score   support\n",
      "\n",
      "           0       0.99      0.99      0.99     15797\n",
      "           1       0.96      0.98      0.97      3030\n",
      "           2       1.00      1.00      1.00     11173\n",
      "\n",
      "    accuracy                           0.99     30000\n",
      "   macro avg       0.98      0.99      0.98     30000\n",
      "weighted avg       0.99      0.99      0.99     30000\n",
      "\n"
     ]
    }
   ],
   "source": [
    "print('classification report for XGBClassifier model: \\n', classification_report(preds, y_test))"
   ]
  },
  {
   "cell_type": "markdown",
   "metadata": {},
   "source": [
    "# Feature importance with XGBoost"
   ]
  },
  {
   "cell_type": "code",
   "execution_count": 32,
   "metadata": {
    "execution": {
     "iopub.execute_input": "2023-10-02T23:22:06.118348Z",
     "iopub.status.busy": "2023-10-02T23:22:06.117786Z",
     "iopub.status.idle": "2023-10-02T23:22:06.448018Z",
     "shell.execute_reply": "2023-10-02T23:22:06.446878Z",
     "shell.execute_reply.started": "2023-10-02T23:22:06.118320Z"
    }
   },
   "outputs": [
    {
     "data": {
      "text/plain": [
       "<Axes: title={'center': 'Feature importance'}, xlabel='F score', ylabel='Features'>"
      ]
     },
     "execution_count": 32,
     "metadata": {},
     "output_type": "execute_result"
    },
    {
     "data": {
      "image/png": "[encoded data removed]",
      "text/plain": [
       "<Figure size 640x480 with 1 Axes>"
      ]
     },
     "metadata": {},
     "output_type": "display_data"
    }
   ],
   "source": [
    "# Let's plot top 10 most important features\n",
    "plot_importance(xgbModel, max_num_features=10)"
   ]
  }
 ],
 "metadata": {
  "kernelspec": {
   "display_name": "Python 3 (ipykernel)",
   "language": "python",
   "name": "python3"
  },
  "language_info": {
   "codemirror_mode": {
    "name": "ipython",
    "version": 3
   },
   "file_extension": ".py",
   "mimetype": "text/x-python",
   "name": "python",
   "nbconvert_exporter": "python",
   "pygments_lexer": "ipython3",
   "version": "3.10.9"
  }
 },
 "nbformat": 4,
 "nbformat_minor": 4
}
